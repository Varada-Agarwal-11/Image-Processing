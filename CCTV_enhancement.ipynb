{
  "nbformat": 4,
  "nbformat_minor": 0,
  "metadata": {
    "colab": {
      "provenance": []
    },
    "kernelspec": {
      "name": "python3",
      "display_name": "Python 3"
    },
    "language_info": {
      "name": "python"
    }
  },
  "cells": [
    {
      "cell_type": "code",
      "execution_count": null,
      "metadata": {
        "id": "kyywKbCNVrP9"
      },
      "outputs": [],
      "source": [
        "# QUESTION TWO:"
      ]
    },
    {
      "cell_type": "code",
      "source": [
        "import numpy as np\n",
        "from PIL import Image"
      ],
      "metadata": {
        "id": "iRScFpEaVrp0"
      },
      "execution_count": null,
      "outputs": []
    },
    {
      "cell_type": "code",
      "source": [
        "def hist(image):\n",
        "    # Convert the image to a NumPy array\n",
        "    A = np.array(image)\n",
        "\n",
        "    # Calculate the histogram for each color channel\n",
        "    histograms = [np.histogram(A[:, :, i], bins=256, range=(0, 255))[0] for i in range(3)]\n",
        "\n",
        "    # Calculate the cumulative distribution function (CDF) for each color channel\n",
        "    cdf = [histograms[i].cumsum() for i in range(3)]\n",
        "\n",
        "    # Normalize the CDF\n",
        "    cdf_normalized = [(cdf[i] * 255 / cdf[i][-1]).astype(np.uint8) for i in range(3)]\n",
        "\n",
        "    # Perform histogram equalization for each color channel\n",
        "    equalized_channels = [cdf_normalized[i][A[:, :, i]] for i in range(3)]\n",
        "\n",
        "    # Combine the equalized channels back into an RGB image\n",
        "    equalized_image = np.stack(equalized_channels, axis=2)\n",
        "\n",
        "    # Convert the NumPy array back to an image\n",
        "    equalized_image = Image.fromarray(equalized_image)\n",
        "    return equalized_image"
      ],
      "metadata": {
        "id": "SyklETvtVwqJ"
      },
      "execution_count": null,
      "outputs": []
    },
    {
      "cell_type": "code",
      "source": [
        "# Check user input\n",
        "user_input = input(\"Enter input (1-4): \")"
      ],
      "metadata": {
        "colab": {
          "base_uri": "https://localhost:8080/"
        },
        "id": "PLqnWeAxVzey",
        "outputId": "8745beb6-3a6f-4d33-b899-1dfcaced1575"
      },
      "execution_count": null,
      "outputs": [
        {
          "name": "stdout",
          "output_type": "stream",
          "text": [
            "Enter input (1-4): 1\n"
          ]
        }
      ]
    },
    {
      "cell_type": "code",
      "source": [
        "\n",
        "if user_input == '1':\n",
        "    image = Image.open(\"cctv1.JPG\")\n",
        "    equalized_image = hist(image)\n",
        "    equalized_image.save(\"equalized_image.jpg\")\n",
        "elif user_input == '2':\n",
        "    image = Image.open(\"cctv2.JPG\")\n",
        "    # Convert the image to a NumPy array\n",
        "    A = np.array(image)\n",
        "    # Apply gamma correction\n",
        "    gamma = 0.4\n",
        "    adjusted_image = np.power(A / 255.0, gamma) * 255.0\n",
        "    # Convert the adjusted image to the appropriate data type\n",
        "    adjusted_image = adjusted_image.astype(np.uint8)\n",
        "    # Convert the NumPy array back to an image\n",
        "    adjusted_image = Image.fromarray(adjusted_image)\n",
        "    adjusted_image.save(\"equalized_image2.jpg\")\n",
        "elif user_input == '3':\n",
        "    image = Image.open(\"cctv3.JPG\")\n",
        "    equalized_image = hist(image)\n",
        "    equalized_image.save(\"equalized_image3.jpg\")\n",
        "elif user_input == '4':\n",
        "    image = Image.open(\"cctv4.JPG\")\n",
        "    equalized_image = hist(image)\n",
        "    equalized_image.save(\"equalized_image4.jpg\")\n",
        "else:\n",
        "    print(\"Invalid input!\")"
      ],
      "metadata": {
        "id": "KRnYov6BV188"
      },
      "execution_count": null,
      "outputs": []
    },
    {
      "cell_type": "code",
      "source": [],
      "metadata": {
        "id": "2p33qXBMV53q"
      },
      "execution_count": null,
      "outputs": []
    }
  ]
}
