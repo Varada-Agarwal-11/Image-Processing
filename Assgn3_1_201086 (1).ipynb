{
  "nbformat": 4,
  "nbformat_minor": 0,
  "metadata": {
    "colab": {
      "provenance": []
    },
    "kernelspec": {
      "name": "python3",
      "display_name": "Python 3"
    },
    "language_info": {
      "name": "python"
    }
  },
  "cells": [
    {
      "cell_type": "code",
      "source": [
        "import cv2\n",
        "import numpy as np\n",
        "from PIL import Image"
      ],
      "metadata": {
        "id": "zkv2bnTX6CGl"
      },
      "execution_count": null,
      "outputs": []
    },
    {
      "cell_type": "code",
      "source": [
        "# QUESTION ONE:"
      ],
      "metadata": {
        "id": "g8E42VS3T4BT"
      },
      "execution_count": null,
      "outputs": []
    },
    {
      "cell_type": "code",
      "source": [
        "class GaussianBlur:\n",
        "    def __init__(self, kernel_size, sigma):\n",
        "        self.kernel_size = kernel_size\n",
        "        self.sigma = sigma\n",
        "        self.dim = kernel_size // 2\n",
        "\n",
        "    def prepare(self):\n",
        "        self.gaussian_kernel = np.zeros(\n",
        "            (self.kernel_size, self.kernel_size), np.float32\n",
        "        )\n",
        "\n",
        "        for x in range(-self.dim, self.dim + 1):\n",
        "            for y in range(-self.dim, self.dim + 1):\n",
        "                x1 = 2 * np.pi * (self.sigma**2)\n",
        "                x2 = np.exp(-(x**2 + y**2) / (2 * self.sigma**2))\n",
        "                self.gaussian_kernel[\n",
        "                    x + self.dim, y + self.dim\n",
        "                ] = (1 / x1) * x2\n",
        "\n",
        "    def convolve(self, img, kernel):\n",
        "        image_pad = np.pad(\n",
        "            img,\n",
        "            pad_width=((self.dim, self.dim), (self.dim, self.dim)),\n",
        "            mode=\"constant\",\n",
        "            constant_values=0,\n",
        "        ).astype(np.float32)\n",
        "\n",
        "        image_conv = np.zeros(image_pad.shape)\n",
        "\n",
        "        for i in range(self.dim, image_pad.shape[0] - self.dim):\n",
        "            for j in range(self.dim, image_pad.shape[1] - self.dim):\n",
        "                x = image_pad[\n",
        "                    i - self.dim : i - self.dim + self.kernel_size, j - self.dim : j - self.dim + self.kernel_size\n",
        "                ]\n",
        "                x = x.flatten() * kernel.flatten()\n",
        "                image_conv[i][j] = x.sum()\n",
        "\n",
        "        return image_conv[self.dim:-self.dim, self.dim:-self.dim].astype(np.uint8)\n",
        "\n",
        "    def apply(self, img):\n",
        "        return self.convolve(img, self.gaussian_kernel)\n",
        "\n",
        "\n",
        "\n",
        "\n",
        "print(\"Gutter image cleaned and saved successfully as cleaned-gutter.jpg\")"
      ],
      "metadata": {
        "colab": {
          "base_uri": "https://localhost:8080/"
        },
        "id": "Oz33ZNNTrgs6",
        "outputId": "0926a51c-aead-4e22-aaa2-57746b2f8f14"
      },
      "execution_count": null,
      "outputs": [
        {
          "output_type": "stream",
          "name": "stdout",
          "text": [
            "Gutter image cleaned and saved successfully as cleaned-gutter.jpg\n"
          ]
        }
      ]
    },
    {
      "cell_type": "code",
      "source": [
        "def normalised_image(img):\n",
        "    return cv2.normalize(\n",
        "        img,\n",
        "        None,\n",
        "        alpha=0,\n",
        "        beta=255,\n",
        "        norm_type=cv2.NORM_MINMAX,\n",
        "        dtype=cv2.CV_8UC1,\n",
        "    )\n",
        "\n",
        "\n",
        "def gamma_correction(img, gamma):\n",
        "    return cv2.LUT(\n",
        "        img,\n",
        "        np.array(\n",
        "            [((i / 255.0) ** (1.0 / gamma)) * 255 for i in np.arange(0, 256)]\n",
        "        ).astype(np.uint8),\n",
        "    )\n",
        "\n",
        "\n",
        "def clean_gutter(img):\n",
        "    cleaned_img = []\n",
        "\n",
        "    img = gamma_correction(img, 1.5)\n",
        "\n",
        "    gaussian_blur = GaussianBlur(kernel_size=15, sigma=3)\n",
        "    gaussian_blur.prepare()\n",
        "\n",
        "    for axis in cv2.split(img):\n",
        "        processed_img = cv2.dilate(axis, np.ones((6, 6), np.uint8))\n",
        "        blurred_image = gaussian_blur.apply(processed_img)\n",
        "        cleaned_img.append(normalised_image(255 - cv2.absdiff(blurred_image, axis)))\n",
        "\n",
        "    return gamma_correction(cv2.merge(cleaned_img), 0.5)\n",
        "\n",
        "\n",
        "def save_image(img, filename: str):\n",
        "    cv2.imwrite(filename, img)"
      ],
      "metadata": {
        "id": "GFn17PD6SYQd"
      },
      "execution_count": null,
      "outputs": []
    },
    {
      "cell_type": "code",
      "source": [
        "input_image_number = input(\"Enter the image number (1, 2 or 3): \")\n",
        "image_path = f'gutters{input_image_number}.JPG'\n",
        "img = cv2.imread(image_path)\n",
        "\n",
        "img = clean_gutter(img)\n",
        "output_image_path = f'cleaned-gutters{input_image_number}.jpg'\n",
        "save_image(img, output_image_path)"
      ],
      "metadata": {
        "colab": {
          "base_uri": "https://localhost:8080/"
        },
        "id": "Sg3DHPJYSky0",
        "outputId": "3c365853-3689-4a46-ee42-55a0ba4f4377"
      },
      "execution_count": null,
      "outputs": [
        {
          "name": "stdout",
          "output_type": "stream",
          "text": [
            "Enter the image number (1, 2 or 3): 3\n"
          ]
        }
      ]
    }
  ]
}